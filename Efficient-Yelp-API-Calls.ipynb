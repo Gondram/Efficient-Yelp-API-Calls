{
 "cells": [
  {
   "cell_type": "markdown",
   "id": "c0d76262-6880-477d-b2b0-ae25fa092775",
   "metadata": {},
   "source": [
    "# Efficient Yelp API Calls (Core)\n",
    "- David Atkins"
   ]
  },
  {
   "cell_type": "code",
   "execution_count": 3,
   "id": "1d58d754-c09c-4a44-a37b-59fa43533247",
   "metadata": {},
   "outputs": [],
   "source": [
    "# Standard Imports\n",
    "import numpy as np\n",
    "import pandas as pd\n",
    "import matplotlib.pyplot as plt\n",
    "import seaborn as sns\n",
    "# Additional Imports\n",
    "import os, json, math, time\n",
    "from yelpapi import YelpAPI\n",
    "from tqdm.notebook import tqdm_notebook"
   ]
  },
  {
   "cell_type": "code",
   "execution_count": 4,
   "id": "a62ab677-47b3-4f2a-b879-5996393702a0",
   "metadata": {},
   "outputs": [],
   "source": [
    "# Loading API Credentials\n",
    "with open('/Users/gondr/.secret/yelp_api.json') as f:\n",
    "    login = json.load(f)\n",
    "# Instantiate YelpAPI Variable\n",
    "yelp_api = YelpAPI(login['api-key'], timeout_s=5.0)"
   ]
  },
  {
   "cell_type": "code",
   "execution_count": 25,
   "id": "3db51f6c-d8a1-47f7-a99b-6bdde9706e3a",
   "metadata": {},
   "outputs": [],
   "source": [
    "# set our API call parameters \n",
    "LOCATION = 'Boston,MA'\n",
    "TERM = 'Reuben'"
   ]
  },
  {
   "cell_type": "code",
   "execution_count": 26,
   "id": "ea41e441-1290-4539-9800-f743277b4ca7",
   "metadata": {},
   "outputs": [
    {
     "data": {
      "text/plain": [
       "'data/results_in_progress_boston_reuben.json'"
      ]
     },
     "execution_count": 26,
     "metadata": {},
     "output_type": "execute_result"
    }
   ],
   "source": [
    "# Specifying JSON_FILE filename (can include a folder)\n",
    "# include the search terms in the filename\n",
    "JSON_FILE = \"data/results_in_progress_boston_reuben.json\"\n",
    "JSON_FILE"
   ]
  },
  {
   "cell_type": "code",
   "execution_count": 27,
   "id": "f4d75413-bb53-4e6d-9f57-ad92efa19a23",
   "metadata": {},
   "outputs": [],
   "source": [
    "def create_json_file(JSON_FILE,  delete_if_exists=False):\n",
    "    \n",
    "    ## Check if JSON_FILE exists\n",
    "    file_exists = os.path.isfile(JSON_FILE)\n",
    "    \n",
    "    ## If it DOES exist:\n",
    "    if file_exists == True:\n",
    "        \n",
    "        ## Check if user wants to delete if exists\n",
    "        if delete_if_exists==True:\n",
    "            \n",
    "            print(f\"[!] {JSON_FILE} already exists. Deleting previous file...\")\n",
    "            ## delete file and confirm it no longer exits.\n",
    "            os.remove(JSON_FILE)\n",
    "            ## Recursive call to function after old file deleted\n",
    "            create_json_file(JSON_FILE,delete_if_exists=False)\n",
    "        else:\n",
    "            print(f\"[i] {JSON_FILE} already exists.\")            \n",
    "            \n",
    "            \n",
    "    ## If it does NOT exist:\n",
    "    else:\n",
    "        \n",
    "        ## INFORM USER AND SAVE EMPTY LIST\n",
    "        print(f\"[i] {JSON_FILE} not found. Saving empty list to new file.\")\n",
    "        \n",
    "        ## CREATE ANY NEEDED FOLDERS\n",
    "        # Get the Folder Name only\n",
    "        folder = os.path.dirname(JSON_FILE)\n",
    "        \n",
    "        ## If JSON_FILE included a folder:\n",
    "        if len(folder)>0:\n",
    "            # create the folder\n",
    "            os.makedirs(folder,exist_ok=True)\n",
    "        ## Save empty list to start the json file\n",
    "        with open(JSON_FILE,'w') as f:\n",
    "            json.dump([],f)  "
   ]
  },
  {
   "cell_type": "code",
   "execution_count": 28,
   "id": "ab1a710d-b8ba-472f-b5d0-7074e6bc28f0",
   "metadata": {},
   "outputs": [
    {
     "name": "stdout",
     "output_type": "stream",
     "text": [
      "[i] data/results_in_progress_boston_reuben.json not found. Saving empty list to new file.\n",
      "- 0 previous results found.\n"
     ]
    },
    {
     "data": {
      "text/plain": [
       "25"
      ]
     },
     "execution_count": 28,
     "metadata": {},
     "output_type": "execute_result"
    }
   ],
   "source": [
    "create_json_file(JSON_FILE, delete_if_exists=True)\n",
    "with open(JSON_FILE,'r') as f:\n",
    "    previous_results = json.load(f)\n",
    "    \n",
    "n_results = len(previous_results)\n",
    "print(f'- {n_results} previous results found.')\n",
    "\n",
    "results = yelp_api.search_query(location=LOCATION,\n",
    "                                term=TERM,\n",
    "                               offset=n_results)\n",
    "\n",
    "total_results = results['total']\n",
    "\n",
    "results_per_page = len(results['businesses'])\n",
    "\n",
    "n_pages = math.ceil((results['total']-n_results)/ results_per_page)\n",
    "n_pages"
   ]
  },
  {
   "cell_type": "code",
   "execution_count": 29,
   "id": "bbf1b119-a94d-4a7e-85dc-9915abea757a",
   "metadata": {},
   "outputs": [
    {
     "data": {
      "application/vnd.jupyter.widget-view+json": {
       "model_id": "7aa00490b4064f8896ad122107587fe3",
       "version_major": 2,
       "version_minor": 0
      },
      "text/plain": [
       "  0%|          | 0/25 [00:00<?, ?it/s]"
      ]
     },
     "metadata": {},
     "output_type": "display_data"
    }
   ],
   "source": [
    "for i in tqdm_notebook( range(1,n_pages+1)):\n",
    "    \n",
    "    \n",
    "    with open(JSON_FILE, 'r') as f:\n",
    "        previous_results = json.load(f)\n",
    "    \n",
    "    n_results = len(previous_results)\n",
    "    \n",
    "    if (n_results + results_per_page) > 1000:\n",
    "        print('Exceeded 1000 api calls. Stopping loop.')\n",
    "        break\n",
    "    \n",
    "    results = yelp_api.search_query(location=LOCATION,\n",
    "                                    term=TERM, \n",
    "                                    offset=n_results)\n",
    "    \n",
    "    previous_results.extend(results['businesses'])\n",
    "    \n",
    "    with open(JSON_FILE,'w') as f:\n",
    "        json.dump(previous_results,f)\n",
    "    \n",
    "    time.sleep(.2)"
   ]
  },
  {
   "cell_type": "code",
   "execution_count": 30,
   "id": "9445c90f-e9aa-485e-974f-810733595e98",
   "metadata": {},
   "outputs": [
    {
     "data": {
      "text/html": [
       "<div>\n",
       "<style scoped>\n",
       "    .dataframe tbody tr th:only-of-type {\n",
       "        vertical-align: middle;\n",
       "    }\n",
       "\n",
       "    .dataframe tbody tr th {\n",
       "        vertical-align: top;\n",
       "    }\n",
       "\n",
       "    .dataframe thead th {\n",
       "        text-align: right;\n",
       "    }\n",
       "</style>\n",
       "<table border=\"1\" class=\"dataframe\">\n",
       "  <thead>\n",
       "    <tr style=\"text-align: right;\">\n",
       "      <th></th>\n",
       "      <th>id</th>\n",
       "      <th>alias</th>\n",
       "      <th>name</th>\n",
       "      <th>image_url</th>\n",
       "      <th>is_closed</th>\n",
       "      <th>url</th>\n",
       "      <th>review_count</th>\n",
       "      <th>categories</th>\n",
       "      <th>rating</th>\n",
       "      <th>coordinates</th>\n",
       "      <th>transactions</th>\n",
       "      <th>price</th>\n",
       "      <th>location</th>\n",
       "      <th>phone</th>\n",
       "      <th>display_phone</th>\n",
       "      <th>distance</th>\n",
       "    </tr>\n",
       "  </thead>\n",
       "  <tbody>\n",
       "    <tr>\n",
       "      <th>0</th>\n",
       "      <td>w2F5N4h26hOrz2KoxThomw</td>\n",
       "      <td>sam-lagrassas-boston-3</td>\n",
       "      <td>Sam LaGrassa's</td>\n",
       "      <td>https://s3-media4.fl.yelpcdn.com/bphoto/0Dx6vF...</td>\n",
       "      <td>False</td>\n",
       "      <td>https://www.yelp.com/biz/sam-lagrassas-boston-...</td>\n",
       "      <td>1173</td>\n",
       "      <td>[{'alias': 'delis', 'title': 'Delis'}, {'alias...</td>\n",
       "      <td>4.5</td>\n",
       "      <td>{'latitude': 42.35762673340388, 'longitude': -...</td>\n",
       "      <td>[pickup, delivery]</td>\n",
       "      <td>$$</td>\n",
       "      <td>{'address1': '44 Province St', 'address2': '',...</td>\n",
       "      <td>+16173576861</td>\n",
       "      <td>(617) 357-6861</td>\n",
       "      <td>1459.065431</td>\n",
       "    </tr>\n",
       "    <tr>\n",
       "      <th>1</th>\n",
       "      <td>EbUZhM4fLpsWQ8fpBhhgEQ</td>\n",
       "      <td>mike-and-pattys-boston-boston</td>\n",
       "      <td>Mike &amp; Patty's - Boston</td>\n",
       "      <td>https://s3-media4.fl.yelpcdn.com/bphoto/CLxvYZ...</td>\n",
       "      <td>False</td>\n",
       "      <td>https://www.yelp.com/biz/mike-and-pattys-bosto...</td>\n",
       "      <td>2108</td>\n",
       "      <td>[{'alias': 'sandwiches', 'title': 'Sandwiches'...</td>\n",
       "      <td>4.5</td>\n",
       "      <td>{'latitude': 42.348561, 'longitude': -71.067928}</td>\n",
       "      <td>[pickup, delivery]</td>\n",
       "      <td>$$</td>\n",
       "      <td>{'address1': '12 Church St', 'address2': '', '...</td>\n",
       "      <td>+16174233447</td>\n",
       "      <td>(617) 423-3447</td>\n",
       "      <td>283.948363</td>\n",
       "    </tr>\n",
       "    <tr>\n",
       "      <th>2</th>\n",
       "      <td>w-i1JcbJDuJmoZbGjxBH8w</td>\n",
       "      <td>charlies-sandwich-shoppe-boston</td>\n",
       "      <td>Charlie's Sandwich Shoppe</td>\n",
       "      <td>https://s3-media1.fl.yelpcdn.com/bphoto/mQoJq3...</td>\n",
       "      <td>False</td>\n",
       "      <td>https://www.yelp.com/biz/charlies-sandwich-sho...</td>\n",
       "      <td>342</td>\n",
       "      <td>[{'alias': 'sandwiches', 'title': 'Sandwiches'...</td>\n",
       "      <td>4.0</td>\n",
       "      <td>{'latitude': 42.3441143, 'longitude': -71.0777...</td>\n",
       "      <td>[pickup, delivery]</td>\n",
       "      <td>$$</td>\n",
       "      <td>{'address1': '429 Columbus Ave', 'address2': '...</td>\n",
       "      <td>+16175367669</td>\n",
       "      <td>(617) 536-7669</td>\n",
       "      <td>675.941589</td>\n",
       "    </tr>\n",
       "    <tr>\n",
       "      <th>3</th>\n",
       "      <td>n6iTeADfaVagZjsoZZ631A</td>\n",
       "      <td>emmets-irish-pub-and-restaurant-boston</td>\n",
       "      <td>Emmet's Irish Pub &amp; Restaurant</td>\n",
       "      <td>https://s3-media4.fl.yelpcdn.com/bphoto/lB5g76...</td>\n",
       "      <td>False</td>\n",
       "      <td>https://www.yelp.com/biz/emmets-irish-pub-and-...</td>\n",
       "      <td>432</td>\n",
       "      <td>[{'alias': 'pubs', 'title': 'Pubs'}, {'alias':...</td>\n",
       "      <td>4.0</td>\n",
       "      <td>{'latitude': 42.3582161, 'longitude': -71.0612...</td>\n",
       "      <td>[delivery]</td>\n",
       "      <td>$$</td>\n",
       "      <td>{'address1': '6 Beacon St', 'address2': '', 'a...</td>\n",
       "      <td>+16177428565</td>\n",
       "      <td>(617) 742-8565</td>\n",
       "      <td>1414.937330</td>\n",
       "    </tr>\n",
       "    <tr>\n",
       "      <th>4</th>\n",
       "      <td>-WG2sv6ApNh1fa7ot-QAEA</td>\n",
       "      <td>archies-new-york-deli-boston</td>\n",
       "      <td>Archie's New York Deli</td>\n",
       "      <td>https://s3-media2.fl.yelpcdn.com/bphoto/qJM_tc...</td>\n",
       "      <td>False</td>\n",
       "      <td>https://www.yelp.com/biz/archies-new-york-deli...</td>\n",
       "      <td>218</td>\n",
       "      <td>[{'alias': 'delis', 'title': 'Delis'}, {'alias...</td>\n",
       "      <td>4.5</td>\n",
       "      <td>{'latitude': 42.3550721034927, 'longitude': -7...</td>\n",
       "      <td>[pickup, delivery]</td>\n",
       "      <td>$</td>\n",
       "      <td>{'address1': '101 Arch St', 'address2': '', 'a...</td>\n",
       "      <td>+16173305145</td>\n",
       "      <td>(617) 330-5145</td>\n",
       "      <td>1275.006803</td>\n",
       "    </tr>\n",
       "  </tbody>\n",
       "</table>\n",
       "</div>"
      ],
      "text/plain": [
       "                       id                                   alias  \\\n",
       "0  w2F5N4h26hOrz2KoxThomw                  sam-lagrassas-boston-3   \n",
       "1  EbUZhM4fLpsWQ8fpBhhgEQ           mike-and-pattys-boston-boston   \n",
       "2  w-i1JcbJDuJmoZbGjxBH8w         charlies-sandwich-shoppe-boston   \n",
       "3  n6iTeADfaVagZjsoZZ631A  emmets-irish-pub-and-restaurant-boston   \n",
       "4  -WG2sv6ApNh1fa7ot-QAEA            archies-new-york-deli-boston   \n",
       "\n",
       "                             name  \\\n",
       "0                  Sam LaGrassa's   \n",
       "1         Mike & Patty's - Boston   \n",
       "2       Charlie's Sandwich Shoppe   \n",
       "3  Emmet's Irish Pub & Restaurant   \n",
       "4          Archie's New York Deli   \n",
       "\n",
       "                                           image_url  is_closed  \\\n",
       "0  https://s3-media4.fl.yelpcdn.com/bphoto/0Dx6vF...      False   \n",
       "1  https://s3-media4.fl.yelpcdn.com/bphoto/CLxvYZ...      False   \n",
       "2  https://s3-media1.fl.yelpcdn.com/bphoto/mQoJq3...      False   \n",
       "3  https://s3-media4.fl.yelpcdn.com/bphoto/lB5g76...      False   \n",
       "4  https://s3-media2.fl.yelpcdn.com/bphoto/qJM_tc...      False   \n",
       "\n",
       "                                                 url  review_count  \\\n",
       "0  https://www.yelp.com/biz/sam-lagrassas-boston-...          1173   \n",
       "1  https://www.yelp.com/biz/mike-and-pattys-bosto...          2108   \n",
       "2  https://www.yelp.com/biz/charlies-sandwich-sho...           342   \n",
       "3  https://www.yelp.com/biz/emmets-irish-pub-and-...           432   \n",
       "4  https://www.yelp.com/biz/archies-new-york-deli...           218   \n",
       "\n",
       "                                          categories  rating  \\\n",
       "0  [{'alias': 'delis', 'title': 'Delis'}, {'alias...     4.5   \n",
       "1  [{'alias': 'sandwiches', 'title': 'Sandwiches'...     4.5   \n",
       "2  [{'alias': 'sandwiches', 'title': 'Sandwiches'...     4.0   \n",
       "3  [{'alias': 'pubs', 'title': 'Pubs'}, {'alias':...     4.0   \n",
       "4  [{'alias': 'delis', 'title': 'Delis'}, {'alias...     4.5   \n",
       "\n",
       "                                         coordinates        transactions  \\\n",
       "0  {'latitude': 42.35762673340388, 'longitude': -...  [pickup, delivery]   \n",
       "1   {'latitude': 42.348561, 'longitude': -71.067928}  [pickup, delivery]   \n",
       "2  {'latitude': 42.3441143, 'longitude': -71.0777...  [pickup, delivery]   \n",
       "3  {'latitude': 42.3582161, 'longitude': -71.0612...          [delivery]   \n",
       "4  {'latitude': 42.3550721034927, 'longitude': -7...  [pickup, delivery]   \n",
       "\n",
       "  price                                           location         phone  \\\n",
       "0    $$  {'address1': '44 Province St', 'address2': '',...  +16173576861   \n",
       "1    $$  {'address1': '12 Church St', 'address2': '', '...  +16174233447   \n",
       "2    $$  {'address1': '429 Columbus Ave', 'address2': '...  +16175367669   \n",
       "3    $$  {'address1': '6 Beacon St', 'address2': '', 'a...  +16177428565   \n",
       "4     $  {'address1': '101 Arch St', 'address2': '', 'a...  +16173305145   \n",
       "\n",
       "    display_phone     distance  \n",
       "0  (617) 357-6861  1459.065431  \n",
       "1  (617) 423-3447   283.948363  \n",
       "2  (617) 536-7669   675.941589  \n",
       "3  (617) 742-8565  1414.937330  \n",
       "4  (617) 330-5145  1275.006803  "
      ]
     },
     "metadata": {},
     "output_type": "display_data"
    },
    {
     "data": {
      "text/html": [
       "<div>\n",
       "<style scoped>\n",
       "    .dataframe tbody tr th:only-of-type {\n",
       "        vertical-align: middle;\n",
       "    }\n",
       "\n",
       "    .dataframe tbody tr th {\n",
       "        vertical-align: top;\n",
       "    }\n",
       "\n",
       "    .dataframe thead th {\n",
       "        text-align: right;\n",
       "    }\n",
       "</style>\n",
       "<table border=\"1\" class=\"dataframe\">\n",
       "  <thead>\n",
       "    <tr style=\"text-align: right;\">\n",
       "      <th></th>\n",
       "      <th>id</th>\n",
       "      <th>alias</th>\n",
       "      <th>name</th>\n",
       "      <th>image_url</th>\n",
       "      <th>is_closed</th>\n",
       "      <th>url</th>\n",
       "      <th>review_count</th>\n",
       "      <th>categories</th>\n",
       "      <th>rating</th>\n",
       "      <th>coordinates</th>\n",
       "      <th>transactions</th>\n",
       "      <th>price</th>\n",
       "      <th>location</th>\n",
       "      <th>phone</th>\n",
       "      <th>display_phone</th>\n",
       "      <th>distance</th>\n",
       "    </tr>\n",
       "  </thead>\n",
       "  <tbody>\n",
       "    <tr>\n",
       "      <th>480</th>\n",
       "      <td>O7-iODKfhUj667cgFNr3hw</td>\n",
       "      <td>tgi-fridays-braintree-3</td>\n",
       "      <td>TGI Fridays</td>\n",
       "      <td>https://s3-media3.fl.yelpcdn.com/bphoto/QvlHlS...</td>\n",
       "      <td>False</td>\n",
       "      <td>https://www.yelp.com/biz/tgi-fridays-braintree...</td>\n",
       "      <td>381</td>\n",
       "      <td>[{'alias': 'tradamerican', 'title': 'American ...</td>\n",
       "      <td>2.0</td>\n",
       "      <td>{'latitude': 42.2208707, 'longitude': -71.0297...</td>\n",
       "      <td>[restaurant_reservation, pickup, delivery]</td>\n",
       "      <td>$$</td>\n",
       "      <td>{'address1': '60 Forbes Rd', 'address2': None,...</td>\n",
       "      <td>+17818483133</td>\n",
       "      <td>(781) 848-3133</td>\n",
       "      <td>14540.998389</td>\n",
       "    </tr>\n",
       "    <tr>\n",
       "      <th>481</th>\n",
       "      <td>uQ08w_MZPRfkK6bdBtfQFg</td>\n",
       "      <td>supreme-pizza-quincy</td>\n",
       "      <td>Supreme Pizza</td>\n",
       "      <td>https://s3-media4.fl.yelpcdn.com/bphoto/g9cUN_...</td>\n",
       "      <td>False</td>\n",
       "      <td>https://www.yelp.com/biz/supreme-pizza-quincy?...</td>\n",
       "      <td>11</td>\n",
       "      <td>[{'alias': 'pizza', 'title': 'Pizza'}]</td>\n",
       "      <td>2.0</td>\n",
       "      <td>{'latitude': 42.2406616210938, 'longitude': -7...</td>\n",
       "      <td>[]</td>\n",
       "      <td>$</td>\n",
       "      <td>{'address1': '271 Quincy Ave', 'address2': '',...</td>\n",
       "      <td>+16177703888</td>\n",
       "      <td>(617) 770-3888</td>\n",
       "      <td>13688.049778</td>\n",
       "    </tr>\n",
       "    <tr>\n",
       "      <th>482</th>\n",
       "      <td>TGtRW7nq7i4fLAzrKdaaaQ</td>\n",
       "      <td>angelinas-pizzeria-braintree</td>\n",
       "      <td>Angelina's Pizzeria</td>\n",
       "      <td>https://s3-media2.fl.yelpcdn.com/bphoto/X9a_1F...</td>\n",
       "      <td>False</td>\n",
       "      <td>https://www.yelp.com/biz/angelinas-pizzeria-br...</td>\n",
       "      <td>134</td>\n",
       "      <td>[{'alias': 'pizza', 'title': 'Pizza'}]</td>\n",
       "      <td>2.5</td>\n",
       "      <td>{'latitude': 42.2263336181641, 'longitude': -7...</td>\n",
       "      <td>[pickup, delivery]</td>\n",
       "      <td>$</td>\n",
       "      <td>{'address1': '419 Elm St', 'address2': '', 'ad...</td>\n",
       "      <td>+17818437827</td>\n",
       "      <td>(781) 843-7827</td>\n",
       "      <td>14977.655123</td>\n",
       "    </tr>\n",
       "    <tr>\n",
       "      <th>483</th>\n",
       "      <td>9F8-_by7AXe1d3uitgT6gA</td>\n",
       "      <td>ny-pie-waltham-2</td>\n",
       "      <td>NY Pie</td>\n",
       "      <td>https://s3-media3.fl.yelpcdn.com/bphoto/76FUSH...</td>\n",
       "      <td>False</td>\n",
       "      <td>https://www.yelp.com/biz/ny-pie-waltham-2?adju...</td>\n",
       "      <td>287</td>\n",
       "      <td>[{'alias': 'pizza', 'title': 'Pizza'}, {'alias...</td>\n",
       "      <td>4.0</td>\n",
       "      <td>{'latitude': 42.360123512927, 'longitude': -71...</td>\n",
       "      <td>[pickup, delivery]</td>\n",
       "      <td>$$</td>\n",
       "      <td>{'address1': '934 Moody St', 'address2': '', '...</td>\n",
       "      <td>+17813731548</td>\n",
       "      <td>(781) 373-1548</td>\n",
       "      <td>13861.742449</td>\n",
       "    </tr>\n",
       "    <tr>\n",
       "      <th>484</th>\n",
       "      <td>IGbKO5xKMZrTsPtmDYaLwQ</td>\n",
       "      <td>chateau-restaurant-waltham</td>\n",
       "      <td>Chateau Restaurant</td>\n",
       "      <td>https://s3-media1.fl.yelpcdn.com/bphoto/Nc-Xoi...</td>\n",
       "      <td>False</td>\n",
       "      <td>https://www.yelp.com/biz/chateau-restaurant-wa...</td>\n",
       "      <td>343</td>\n",
       "      <td>[{'alias': 'italian', 'title': 'Italian'}, {'a...</td>\n",
       "      <td>3.0</td>\n",
       "      <td>{'latitude': 42.3783249, 'longitude': -71.239395}</td>\n",
       "      <td>[pickup, delivery]</td>\n",
       "      <td>$$</td>\n",
       "      <td>{'address1': '195 School St', 'address2': None...</td>\n",
       "      <td>+17818943339</td>\n",
       "      <td>(781) 894-3339</td>\n",
       "      <td>14224.750388</td>\n",
       "    </tr>\n",
       "  </tbody>\n",
       "</table>\n",
       "</div>"
      ],
      "text/plain": [
       "                         id                         alias  \\\n",
       "480  O7-iODKfhUj667cgFNr3hw       tgi-fridays-braintree-3   \n",
       "481  uQ08w_MZPRfkK6bdBtfQFg          supreme-pizza-quincy   \n",
       "482  TGtRW7nq7i4fLAzrKdaaaQ  angelinas-pizzeria-braintree   \n",
       "483  9F8-_by7AXe1d3uitgT6gA              ny-pie-waltham-2   \n",
       "484  IGbKO5xKMZrTsPtmDYaLwQ    chateau-restaurant-waltham   \n",
       "\n",
       "                    name                                          image_url  \\\n",
       "480          TGI Fridays  https://s3-media3.fl.yelpcdn.com/bphoto/QvlHlS...   \n",
       "481        Supreme Pizza  https://s3-media4.fl.yelpcdn.com/bphoto/g9cUN_...   \n",
       "482  Angelina's Pizzeria  https://s3-media2.fl.yelpcdn.com/bphoto/X9a_1F...   \n",
       "483               NY Pie  https://s3-media3.fl.yelpcdn.com/bphoto/76FUSH...   \n",
       "484   Chateau Restaurant  https://s3-media1.fl.yelpcdn.com/bphoto/Nc-Xoi...   \n",
       "\n",
       "     is_closed                                                url  \\\n",
       "480      False  https://www.yelp.com/biz/tgi-fridays-braintree...   \n",
       "481      False  https://www.yelp.com/biz/supreme-pizza-quincy?...   \n",
       "482      False  https://www.yelp.com/biz/angelinas-pizzeria-br...   \n",
       "483      False  https://www.yelp.com/biz/ny-pie-waltham-2?adju...   \n",
       "484      False  https://www.yelp.com/biz/chateau-restaurant-wa...   \n",
       "\n",
       "     review_count                                         categories  rating  \\\n",
       "480           381  [{'alias': 'tradamerican', 'title': 'American ...     2.0   \n",
       "481            11             [{'alias': 'pizza', 'title': 'Pizza'}]     2.0   \n",
       "482           134             [{'alias': 'pizza', 'title': 'Pizza'}]     2.5   \n",
       "483           287  [{'alias': 'pizza', 'title': 'Pizza'}, {'alias...     4.0   \n",
       "484           343  [{'alias': 'italian', 'title': 'Italian'}, {'a...     3.0   \n",
       "\n",
       "                                           coordinates  \\\n",
       "480  {'latitude': 42.2208707, 'longitude': -71.0297...   \n",
       "481  {'latitude': 42.2406616210938, 'longitude': -7...   \n",
       "482  {'latitude': 42.2263336181641, 'longitude': -7...   \n",
       "483  {'latitude': 42.360123512927, 'longitude': -71...   \n",
       "484  {'latitude': 42.3783249, 'longitude': -71.239395}   \n",
       "\n",
       "                                   transactions price  \\\n",
       "480  [restaurant_reservation, pickup, delivery]    $$   \n",
       "481                                          []     $   \n",
       "482                          [pickup, delivery]     $   \n",
       "483                          [pickup, delivery]    $$   \n",
       "484                          [pickup, delivery]    $$   \n",
       "\n",
       "                                              location         phone  \\\n",
       "480  {'address1': '60 Forbes Rd', 'address2': None,...  +17818483133   \n",
       "481  {'address1': '271 Quincy Ave', 'address2': '',...  +16177703888   \n",
       "482  {'address1': '419 Elm St', 'address2': '', 'ad...  +17818437827   \n",
       "483  {'address1': '934 Moody St', 'address2': '', '...  +17813731548   \n",
       "484  {'address1': '195 School St', 'address2': None...  +17818943339   \n",
       "\n",
       "      display_phone      distance  \n",
       "480  (781) 848-3133  14540.998389  \n",
       "481  (617) 770-3888  13688.049778  \n",
       "482  (781) 843-7827  14977.655123  \n",
       "483  (781) 373-1548  13861.742449  \n",
       "484  (781) 894-3339  14224.750388  "
      ]
     },
     "metadata": {},
     "output_type": "display_data"
    }
   ],
   "source": [
    "final_df = pd.read_json(JSON_FILE)\n",
    "display(final_df.head(), final_df.tail())"
   ]
  },
  {
   "cell_type": "code",
   "execution_count": null,
   "id": "bf973146-3df1-400d-bf82-9decfec32b2a",
   "metadata": {},
   "outputs": [],
   "source": []
  }
 ],
 "metadata": {
  "kernelspec": {
   "display_name": "Python (dojo-env)",
   "language": "python",
   "name": "dojo-env"
  },
  "language_info": {
   "codemirror_mode": {
    "name": "ipython",
    "version": 3
   },
   "file_extension": ".py",
   "mimetype": "text/x-python",
   "name": "python",
   "nbconvert_exporter": "python",
   "pygments_lexer": "ipython3",
   "version": "3.10.10"
  },
  "widgets": {
   "application/vnd.jupyter.widget-state+json": {
    "state": {
     "00703d77ed104b73b1b39c2cc9d2366e": {
      "model_module": "@jupyter-widgets/controls",
      "model_module_version": "2.0.0",
      "model_name": "HTMLStyleModel",
      "state": {
       "description_width": "",
       "font_size": null,
       "text_color": null
      }
     },
     "00f0f686917d4874846cf78dfe17f806": {
      "model_module": "@jupyter-widgets/base",
      "model_module_version": "2.0.0",
      "model_name": "LayoutModel",
      "state": {}
     },
     "039f81e18c1b42b5adbfc881ac8633b1": {
      "model_module": "@jupyter-widgets/controls",
      "model_module_version": "2.0.0",
      "model_name": "FloatProgressModel",
      "state": {
       "bar_style": "success",
       "layout": "IPY_MODEL_1d68b8f7380f4573b55b89549e436d77",
       "max": 12,
       "style": "IPY_MODEL_057edb66277347289b0cab49d9e95a9e",
       "value": 12
      }
     },
     "0556ef0369af4aa7ab47a1516b88c0db": {
      "model_module": "@jupyter-widgets/base",
      "model_module_version": "2.0.0",
      "model_name": "LayoutModel",
      "state": {}
     },
     "057edb66277347289b0cab49d9e95a9e": {
      "model_module": "@jupyter-widgets/controls",
      "model_module_version": "2.0.0",
      "model_name": "ProgressStyleModel",
      "state": {
       "description_width": ""
      }
     },
     "0732ea717e0242ca8fc6167df08b5068": {
      "model_module": "@jupyter-widgets/controls",
      "model_module_version": "2.0.0",
      "model_name": "HBoxModel",
      "state": {
       "children": [
        "IPY_MODEL_518099e5baf54da99098bce159aa2dba",
        "IPY_MODEL_039f81e18c1b42b5adbfc881ac8633b1",
        "IPY_MODEL_f4856f41724248e39ef08ccef95421e5"
       ],
       "layout": "IPY_MODEL_9cec0a931958482da2cbde9c94e3d511"
      }
     },
     "0f028f9f605a4edbac20231f8c4b29bb": {
      "model_module": "@jupyter-widgets/controls",
      "model_module_version": "2.0.0",
      "model_name": "HTMLModel",
      "state": {
       "layout": "IPY_MODEL_207617c19cd84209bf58f3eeb12e174b",
       "style": "IPY_MODEL_00703d77ed104b73b1b39c2cc9d2366e",
       "value": " 25/25 [00:24&lt;00:00,  1.07s/it]"
      }
     },
     "1c2fabb476464e79a1c035a2a9dad970": {
      "model_module": "@jupyter-widgets/base",
      "model_module_version": "2.0.0",
      "model_name": "LayoutModel",
      "state": {}
     },
     "1d68b8f7380f4573b55b89549e436d77": {
      "model_module": "@jupyter-widgets/base",
      "model_module_version": "2.0.0",
      "model_name": "LayoutModel",
      "state": {}
     },
     "207617c19cd84209bf58f3eeb12e174b": {
      "model_module": "@jupyter-widgets/base",
      "model_module_version": "2.0.0",
      "model_name": "LayoutModel",
      "state": {}
     },
     "2a29407a17f542dbb1342e4a10fc2d89": {
      "model_module": "@jupyter-widgets/controls",
      "model_module_version": "2.0.0",
      "model_name": "HTMLStyleModel",
      "state": {
       "description_width": "",
       "font_size": null,
       "text_color": null
      }
     },
     "32ea4e5735ee49f39c7cd9c735fae426": {
      "model_module": "@jupyter-widgets/base",
      "model_module_version": "2.0.0",
      "model_name": "LayoutModel",
      "state": {}
     },
     "390edffe5aed4e1a8c9c752276be67d9": {
      "model_module": "@jupyter-widgets/controls",
      "model_module_version": "2.0.0",
      "model_name": "HTMLStyleModel",
      "state": {
       "description_width": "",
       "font_size": null,
       "text_color": null
      }
     },
     "437fc37466b84246b0463c4ddf8f3b55": {
      "model_module": "@jupyter-widgets/controls",
      "model_module_version": "2.0.0",
      "model_name": "HTMLStyleModel",
      "state": {
       "description_width": "",
       "font_size": null,
       "text_color": null
      }
     },
     "5172ba15696f43da9db439c891aa824f": {
      "model_module": "@jupyter-widgets/base",
      "model_module_version": "2.0.0",
      "model_name": "LayoutModel",
      "state": {}
     },
     "518099e5baf54da99098bce159aa2dba": {
      "model_module": "@jupyter-widgets/controls",
      "model_module_version": "2.0.0",
      "model_name": "HTMLModel",
      "state": {
       "layout": "IPY_MODEL_be3509f42afd4f159a336f862f49056d",
       "style": "IPY_MODEL_2a29407a17f542dbb1342e4a10fc2d89",
       "value": "100%"
      }
     },
     "70e1d0dbcc944b65b7a9295e4d0512ed": {
      "model_module": "@jupyter-widgets/controls",
      "model_module_version": "2.0.0",
      "model_name": "ProgressStyleModel",
      "state": {
       "description_width": ""
      }
     },
     "73165b31965943ae99cf65c16b92dcb2": {
      "model_module": "@jupyter-widgets/controls",
      "model_module_version": "2.0.0",
      "model_name": "ProgressStyleModel",
      "state": {
       "description_width": ""
      }
     },
     "7604979c6e4e465fb77878120e41c0f5": {
      "model_module": "@jupyter-widgets/controls",
      "model_module_version": "2.0.0",
      "model_name": "HTMLModel",
      "state": {
       "layout": "IPY_MODEL_32ea4e5735ee49f39c7cd9c735fae426",
       "style": "IPY_MODEL_b41d9065951f4521a82683e388a59bd2",
       "value": "100%"
      }
     },
     "7aa00490b4064f8896ad122107587fe3": {
      "model_module": "@jupyter-widgets/controls",
      "model_module_version": "2.0.0",
      "model_name": "HBoxModel",
      "state": {
       "children": [
        "IPY_MODEL_7604979c6e4e465fb77878120e41c0f5",
        "IPY_MODEL_e9942bafaddb435fa9820019569b0e36",
        "IPY_MODEL_0f028f9f605a4edbac20231f8c4b29bb"
       ],
       "layout": "IPY_MODEL_d05c9afc3b5e48d281eb6801b8be0719"
      }
     },
     "88b71e619e1c4efb89c7a73ba6e89547": {
      "model_module": "@jupyter-widgets/base",
      "model_module_version": "2.0.0",
      "model_name": "LayoutModel",
      "state": {}
     },
     "925e66e0892a485e950b8c3fd0674d7d": {
      "model_module": "@jupyter-widgets/controls",
      "model_module_version": "2.0.0",
      "model_name": "FloatProgressModel",
      "state": {
       "bar_style": "danger",
       "layout": "IPY_MODEL_0556ef0369af4aa7ab47a1516b88c0db",
       "max": 12,
       "style": "IPY_MODEL_73165b31965943ae99cf65c16b92dcb2",
       "value": 1
      }
     },
     "9cec0a931958482da2cbde9c94e3d511": {
      "model_module": "@jupyter-widgets/base",
      "model_module_version": "2.0.0",
      "model_name": "LayoutModel",
      "state": {}
     },
     "a57a1ea9004f4a3fa4e69a671f140fb9": {
      "model_module": "@jupyter-widgets/controls",
      "model_module_version": "2.0.0",
      "model_name": "HTMLModel",
      "state": {
       "layout": "IPY_MODEL_88b71e619e1c4efb89c7a73ba6e89547",
       "style": "IPY_MODEL_390edffe5aed4e1a8c9c752276be67d9",
       "value": "  8%"
      }
     },
     "b41d9065951f4521a82683e388a59bd2": {
      "model_module": "@jupyter-widgets/controls",
      "model_module_version": "2.0.0",
      "model_name": "HTMLStyleModel",
      "state": {
       "description_width": "",
       "font_size": null,
       "text_color": null
      }
     },
     "be3509f42afd4f159a336f862f49056d": {
      "model_module": "@jupyter-widgets/base",
      "model_module_version": "2.0.0",
      "model_name": "LayoutModel",
      "state": {}
     },
     "c078b0b6e75b47e6ae8925e75d4db950": {
      "model_module": "@jupyter-widgets/controls",
      "model_module_version": "2.0.0",
      "model_name": "HTMLModel",
      "state": {
       "layout": "IPY_MODEL_1c2fabb476464e79a1c035a2a9dad970",
       "style": "IPY_MODEL_437fc37466b84246b0463c4ddf8f3b55",
       "value": " 1/12 [00:01&lt;00:06,  1.59it/s]"
      }
     },
     "cd12464fba55417899a09e13777a3a35": {
      "model_module": "@jupyter-widgets/controls",
      "model_module_version": "2.0.0",
      "model_name": "HTMLStyleModel",
      "state": {
       "description_width": "",
       "font_size": null,
       "text_color": null
      }
     },
     "d05c9afc3b5e48d281eb6801b8be0719": {
      "model_module": "@jupyter-widgets/base",
      "model_module_version": "2.0.0",
      "model_name": "LayoutModel",
      "state": {}
     },
     "d71229bf60d14ae6a5d8a4cc51ec2192": {
      "model_module": "@jupyter-widgets/controls",
      "model_module_version": "2.0.0",
      "model_name": "HBoxModel",
      "state": {
       "children": [
        "IPY_MODEL_a57a1ea9004f4a3fa4e69a671f140fb9",
        "IPY_MODEL_925e66e0892a485e950b8c3fd0674d7d",
        "IPY_MODEL_c078b0b6e75b47e6ae8925e75d4db950"
       ],
       "layout": "IPY_MODEL_fcd2f0f0517b4fc0bf395ab38f318701"
      }
     },
     "e9942bafaddb435fa9820019569b0e36": {
      "model_module": "@jupyter-widgets/controls",
      "model_module_version": "2.0.0",
      "model_name": "FloatProgressModel",
      "state": {
       "bar_style": "success",
       "layout": "IPY_MODEL_00f0f686917d4874846cf78dfe17f806",
       "max": 25,
       "style": "IPY_MODEL_70e1d0dbcc944b65b7a9295e4d0512ed",
       "value": 25
      }
     },
     "f4856f41724248e39ef08ccef95421e5": {
      "model_module": "@jupyter-widgets/controls",
      "model_module_version": "2.0.0",
      "model_name": "HTMLModel",
      "state": {
       "layout": "IPY_MODEL_5172ba15696f43da9db439c891aa824f",
       "style": "IPY_MODEL_cd12464fba55417899a09e13777a3a35",
       "value": " 12/12 [00:09&lt;00:00,  1.31it/s]"
      }
     },
     "fcd2f0f0517b4fc0bf395ab38f318701": {
      "model_module": "@jupyter-widgets/base",
      "model_module_version": "2.0.0",
      "model_name": "LayoutModel",
      "state": {}
     }
    },
    "version_major": 2,
    "version_minor": 0
   }
  }
 },
 "nbformat": 4,
 "nbformat_minor": 5
}
